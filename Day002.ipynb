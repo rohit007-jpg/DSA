{
 "cells": [
  {
   "cell_type": "markdown",
   "metadata": {},
   "source": [
    "# Bitwise Operator and For Loop "
   ]
  },
  {
   "cell_type": "markdown",
   "metadata": {},
   "source": [
    "# Bitwise Operator, ADD(&), OR(|), NOT(~), XOR(^)"
   ]
  },
  {
   "cell_type": "code",
   "execution_count": 5,
   "metadata": {},
   "outputs": [
    {
     "name": "stdout",
     "output_type": "stream",
     "text": [
      "a&b = 4\n",
      "a|b = 6\n",
      "~a = -5\n",
      "a^b = 2\n"
     ]
    }
   ],
   "source": [
    "a,b=4,6;\n",
    "print(\"a&b = {}\".format(a&b));\n",
    "print(\"a|b = {}\".format(a|b));\n",
    "print(\"~a = {}\".format(~a));\n",
    "print(\"a^b = {}\".format(a^b));\n"
   ]
  },
  {
   "cell_type": "markdown",
   "metadata": {},
   "source": [
    "# Shift Operator in Python \n",
    "## Left Shift Operator (<<) and Right Shift Operator (>>)"
   ]
  },
  {
   "cell_type": "code",
   "execution_count": 8,
   "metadata": {},
   "outputs": [
    {
     "name": "stdout",
     "output_type": "stream",
     "text": [
      "Left Shift of 5 by 1 bit is 10\n",
      "Right Shift of 5 by 1 bit is 2\n"
     ]
    }
   ],
   "source": [
    "num=int(input(\"Enter a number : \"));\n",
    "\n",
    "print(\"Left Shift of {} by 1 bit is {}\".format(num,num<<1));\n",
    "print(\"Right Shift of {} by 1 bit is {}\".format(num,num>>1));\n",
    "\n",
    "#We can say for smaller number's left shift is num*2 and Right Shift is num//2"
   ]
  },
  {
   "cell_type": "markdown",
   "metadata": {},
   "source": [
    "# Python program to print sum of a nums till that number"
   ]
  },
  {
   "cell_type": "code",
   "execution_count": 14,
   "metadata": {},
   "outputs": [
    {
     "name": "stdout",
     "output_type": "stream",
     "text": [
      "5050\n"
     ]
    }
   ],
   "source": [
    "# sum of number till 10\n",
    "sum=0;\n",
    "for i in range(1,101):\n",
    "    sum+=i;\n",
    "print(sum)"
   ]
  },
  {
   "cell_type": "markdown",
   "metadata": {},
   "source": [
    "# Python program to print fiboacci series"
   ]
  },
  {
   "cell_type": "code",
   "execution_count": 22,
   "metadata": {},
   "outputs": [
    {
     "name": "stdout",
     "output_type": "stream",
     "text": [
      "0 1 1 2 3 "
     ]
    }
   ],
   "source": [
    "num=int(input(\"Enter the limit : \"));\n",
    "a=0;\n",
    "b=1;\n",
    "print(a,b,end=\" \")\n",
    "for i in range(num-2):\n",
    "    fib=a+b;\n",
    "    a=b;\n",
    "    b=fib;\n",
    "    print(fib,end=\" \")"
   ]
  },
  {
   "cell_type": "markdown",
   "metadata": {},
   "source": [
    "# Python program to check a number is prime or not using for loop"
   ]
  },
  {
   "cell_type": "code",
   "execution_count": 28,
   "metadata": {},
   "outputs": [
    {
     "name": "stdout",
     "output_type": "stream",
     "text": [
      "13 is a prime number\n"
     ]
    }
   ],
   "source": [
    "num=int(input(\"Enter the number : \"));\n",
    "isprime=False;\n",
    "for i in range(2,num):\n",
    "    if(num%i==0):\n",
    "        isprime=True;\n",
    "        break;\n",
    "if isprime:\n",
    "    print(\"{} is not a prime number\".format(num));\n",
    "else:\n",
    "    print(\"{} is a prime number\".format(num));\n"
   ]
  },
  {
   "cell_type": "code",
   "execution_count": 29,
   "metadata": {},
   "outputs": [
    {
     "name": "stdout",
     "output_type": "stream",
     "text": [
      "Hi\n",
      "Hello\n",
      "Hi\n",
      "Hello\n",
      "Hi\n",
      "Hello\n",
      "Hi\n",
      "Hello\n",
      "Hi\n",
      "Hello\n"
     ]
    }
   ],
   "source": [
    "#example of continue keyword\n",
    "for i in range(5):\n",
    "    print(\"Hi\");\n",
    "    print(\"Hello\");\n",
    "    continue;\n",
    "    print(\"WAITING FOR REPLY\");"
   ]
  },
  {
   "cell_type": "code",
   "execution_count": 30,
   "metadata": {},
   "outputs": [],
   "source": [
    "for i in range(0,6,-1):\n",
    "    print(i);\n",
    "    i+=1\n"
   ]
  },
  {
   "cell_type": "markdown",
   "metadata": {},
   "source": [
    "# Leet Code question number : 1281\n",
    "## Subtract the Product and Sum of the Digits of an Integer"
   ]
  },
  {
   "cell_type": "code",
   "execution_count": 44,
   "metadata": {},
   "outputs": [
    {
     "name": "stdout",
     "output_type": "stream",
     "text": [
      "21\n"
     ]
    }
   ],
   "source": [
    "#   Leet Code Problem 1, Finding Product-Sum of a given number \n",
    "# num=254\n",
    "#product = 2*5*4 = 40 and sum= 2+5+4= 11 so, ans=40-11=29\n",
    "\n",
    "num=int(input(\"Enter the number : \"));\n",
    "pdt=1;\n",
    "sum=0;\n",
    "while(num!=0):\n",
    "    i=num%10;\n",
    "    pdt=pdt*i;\n",
    "    sum=sum+i;\n",
    "    num=num//10;\n",
    "print(pdt-sum);\n",
    "    "
   ]
  },
  {
   "cell_type": "markdown",
   "metadata": {},
   "source": [
    "# Leet Code Question Number 191. Number of 1's Bit in a number.\n",
    "### Given a number, 1st convert it into a Binary Number and then Count the number of 1's in the binary number."
   ]
  },
  {
   "cell_type": "code",
   "execution_count": 12,
   "metadata": {},
   "outputs": [
    {
     "name": "stdout",
     "output_type": "stream",
     "text": [
      "The given number is 5\n",
      "The count of 1's is 2\n"
     ]
    }
   ],
   "source": [
    "n=int(input(\"Enter the number : \"));\n",
    "print(\"The given number is {}\".format(n));\n",
    "\n",
    "count=0;  #Here, we initialize the count variable in order to count no of 1's in binary.\n",
    "\n",
    "while(n!=0):\n",
    "    #If we do bitwise and we get 1 which means TRUE. So, we increment count and then do Right Shift of that num.\n",
    "    if(n&1):\n",
    "        count+=1;\n",
    "    #here, if we got 1 as the last bit increment count.\n",
    "    #Now, do right shift of the num by 1 bit, until the num not equal to zero.\n",
    "    n=n>>1;\n",
    "print(\"The count of 1's is {}\".format(count));"
   ]
  },
  {
   "cell_type": "markdown",
   "metadata": {},
   "source": [
    "## Python Program to convert a Decimal number to Binary number.\n"
   ]
  },
  {
   "cell_type": "code",
   "execution_count": 29,
   "metadata": {},
   "outputs": [
    {
     "name": "stdout",
     "output_type": "stream",
     "text": [
      "The number you have entered is 25\n",
      "The binary of the num is 11001\n"
     ]
    }
   ],
   "source": [
    "num=int(input(\"Enter a number : \"));\n",
    "print(\"The number you have entered is {}\".format(num));\n",
    "ans=0;\n",
    "i=0;\n",
    "while(num!=0):\n",
    "    bit=num&1;\n",
    "    ans=bit*(10**i)+ans;\n",
    "    num=num>>1;\n",
    "    i+=1;\n",
    "print(\"The binary of the num is {}\".format(ans));"
   ]
  },
  {
   "cell_type": "markdown",
   "metadata": {},
   "source": [
    "## Python program to convert Negative Decimal number to Binary Number "
   ]
  },
  {
   "cell_type": "code",
   "execution_count": 53,
   "metadata": {},
   "outputs": [
    {
     "name": "stdout",
     "output_type": "stream",
     "text": [
      "110\n",
      "-110\n"
     ]
    }
   ],
   "source": [
    "import numpy\n",
    "num=int(input(\"Enter a negative number : \"));\n",
    "n=abs(num+1);\n",
    "ans=0;\n",
    "i=0;\n",
    "while(n!=0):\n",
    "    bit=n&1;\n",
    "    ans=bit*(10**i)+ans;\n",
    "    n=n>>1;\n",
    "    i+=1;\n",
    "print(ans);\n",
    "ans=numpy.negative(ans)\n",
    "print(ans)\n",
    "\n",
    "#Incomplete\n"
   ]
  },
  {
   "cell_type": "markdown",
   "metadata": {},
   "source": [
    "## Python program to print Binary Number to Decimal Number"
   ]
  },
  {
   "cell_type": "code",
   "execution_count": 6,
   "metadata": {},
   "outputs": [
    {
     "name": "stdout",
     "output_type": "stream",
     "text": [
      "Binary number 1010 is equal to Decimal number 10\n"
     ]
    }
   ],
   "source": [
    "num=int(input(\"Enter the binary number 1's or 0's : \"));\n",
    "number=num;\n",
    "ans,i = 0,0;\n",
    "while(num!=0):\n",
    "    digit=num%10;\n",
    "    ans=digit*(2**i)+ans;\n",
    "    num=num//10;\n",
    "    i+=1;\n",
    "print(\"Binary number {} is equal to Decimal number {}\".format(number,ans));"
   ]
  },
  {
   "cell_type": "markdown",
   "metadata": {},
   "source": [
    "# LeetCode Problem Number : 7\n",
    "## Reverse an Integer in the range [-2^31, 2^31-1]\n"
   ]
  },
  {
   "cell_type": "code",
   "execution_count": 13,
   "metadata": {},
   "outputs": [
    {
     "name": "stdout",
     "output_type": "stream",
     "text": [
      "0\n"
     ]
    }
   ],
   "source": [
    "import sys\n",
    "MAX_INT=sys.maxsize;\n",
    "MIN_INT=-sys.maxsize-1;\n",
    "num=int(input(\"Enter a number : \"));\n",
    "if(num>0):\n",
    "    ans=0;\n",
    "    while(num!=0):\n",
    "        digit=num%10;\n",
    "        ans=ans*10+digit;\n",
    "        num=num//10;\n",
    "    if(ans>MAX_INT):\n",
    "        print(0);\n",
    "    else:\n",
    "        print(ans);\n",
    "else:\n",
    "    num=num*(-1);\n",
    "    ans=0;\n",
    "    while(num!=0):\n",
    "        digit=num%10;\n",
    "        ans=ans*10+digit;\n",
    "        num=num//10;\n",
    "    ans=ans*(-1);\n",
    "    if(ans<MIN_INT):\n",
    "        print(0);\n",
    "    else:\n",
    "        print(ans);"
   ]
  },
  {
   "cell_type": "markdown",
   "metadata": {},
   "source": [
    "# Leet Code Question Number : 1009\n",
    "## Python Program to print complement of a number \n",
    "### Input=5 -->101--->010---> Output=2"
   ]
  },
  {
   "cell_type": "code",
   "execution_count": 22,
   "metadata": {},
   "outputs": [
    {
     "name": "stdout",
     "output_type": "stream",
     "text": [
      "101\n",
      "5\n"
     ]
    }
   ],
   "source": [
    "num=int(input(\"Enter a number : \"));\n",
    "ans=0;\n",
    "i=0;\n",
    "while(num):\n",
    "    bit=num&1;\n",
    "    ans=bit*(10**i)+ans;\n",
    "    num=num>>1;\n",
    "    i=i+1;\n",
    "print(ans)\n",
    "\n",
    "res=0;\n",
    "j=0;\n",
    "while(ans):\n",
    "    digit=ans%10;\n",
    "    res=digit*(2**j)+ans;\n",
    "    ans=ans//10;\n",
    "    j+=1;\n",
    "print(res)"
   ]
  }
 ],
 "metadata": {
  "interpreter": {
   "hash": "a94cb8a17de1e532d431b0be83bf665b09cfcc9ac1d9ac0f30f86e2055d015be"
  },
  "kernelspec": {
   "display_name": "Python 3.7.6 64-bit ('base': conda)",
   "language": "python",
   "name": "python3"
  },
  "language_info": {
   "codemirror_mode": {
    "name": "ipython",
    "version": 3
   },
   "file_extension": ".py",
   "mimetype": "text/x-python",
   "name": "python",
   "nbconvert_exporter": "python",
   "pygments_lexer": "ipython3",
   "version": "3.7.6"
  },
  "orig_nbformat": 4
 },
 "nbformat": 4,
 "nbformat_minor": 2
}
