{
 "cells": [
  {
   "cell_type": "code",
   "execution_count": null,
   "metadata": {},
   "outputs": [],
   "source": [
    "print(\"Namaste Duniya\")\n",
    "\n",
    "n=\"001\";\n",
    "\n",
    "a=float(n)\n",
    "print(a);\n",
    "print(type(a));"
   ]
  },
  {
   "cell_type": "markdown",
   "metadata": {},
   "source": [
    "# Lecture on Conditional Statements and Looping "
   ]
  },
  {
   "cell_type": "code",
   "execution_count": null,
   "metadata": {},
   "outputs": [],
   "source": [
    "#Program to check number is +ve, -ve or Zero\n",
    "\n",
    "a=int(input(\"Enter a number : \"));\n",
    "if(a>0):\n",
    "    print(\"{} is a positive number\".format(a));\n",
    "elif a==0:\n",
    "    print(\"{} is equal to Zero\".format(a));\n",
    "else:\n",
    "    print(\"{} is a negative number\".format(a));\n"
   ]
  },
  {
   "cell_type": "code",
   "execution_count": null,
   "metadata": {},
   "outputs": [],
   "source": [
    "#Python Program to get the ASCII value from a character\n",
    "print(ord.__doc__)\n",
    "\n",
    "c=input(\"Enter a character : \");\n",
    "print(ord(c))\n"
   ]
  },
  {
   "cell_type": "markdown",
   "metadata": {},
   "source": [
    "# Printing ASCII Value of each character in a string"
   ]
  },
  {
   "cell_type": "code",
   "execution_count": null,
   "metadata": {},
   "outputs": [],
   "source": [
    "print(ord.__doc__)\n",
    "\n",
    "name=input(\"Enter the name: \");\n",
    "print(\"The name you entered is \" + name)\n",
    "\n",
    "for ele in name:\n",
    "    print(\"The ASCII Value of {} is {}\".format(ele,ord(ele)))"
   ]
  },
  {
   "cell_type": "code",
   "execution_count": 59,
   "metadata": {},
   "outputs": [
    {
     "name": "stdout",
     "output_type": "stream",
     "text": [
      "r is a Lower Case Character, with ASCII value of 114\n"
     ]
    }
   ],
   "source": [
    "ch=input(\"Enter a character : \");\n",
    "\n",
    "if ch>=\"a\" and ch<=\"z\":\n",
    "    print(\"{} is a Lower Case Character, with ASCII value of {}\".format(ch,ord(ch)));\n",
    "elif ch>=\"A\" and ch<=\"Z\":\n",
    "    print(\"{} is a Upper Case Character, with ASCII value of {}\".format(ch,ord(ch)));\n",
    "elif ch>=\"0\" and ch<=\"9\":\n",
    "    print(\"{} is a Numerical Character, with ASCII value of {}\".format(ch,ord(ch)));\n",
    "else:\n",
    "    print(\"{} is an Invalid Character, with ASCII value of {}\".format(ch,ord(ch)));"
   ]
  },
  {
   "cell_type": "code",
   "execution_count": 72,
   "metadata": {},
   "outputs": [
    {
     "name": "stdout",
     "output_type": "stream",
     "text": [
      "a b c d e f g h i j k l m n o p q r s t u v w x y z \n",
      "A B C D E F G H I J K L M N O P Q R S T U V W X Y Z \n",
      "0 1 2 3 4 5 6 7 8 9 \n",
      "The ASCII Value of $ is 36\n"
     ]
    }
   ],
   "source": [
    "#Program to print all the Alphabetical Character \n",
    "\n",
    "for i in range(ord(\"a\"),ord(\"z\")+1):\n",
    "    print(chr(i),end=\" \")\n",
    "print()\n",
    "for i in range(ord(\"A\"),ord(\"Z\")+1):\n",
    "    print(chr(i),end=\" \")\n",
    "print()\n",
    "for i in range(0,9+1):\n",
    "    print(i,end=\" \")\n",
    "print()\n",
    "ch=input(\"Enter only one character : \");\n",
    "print(\"The ASCII Value of {} is {}\".format(ch,ord(ch)))\n",
    "    "
   ]
  },
  {
   "cell_type": "markdown",
   "metadata": {},
   "source": []
  }
 ],
 "metadata": {
  "interpreter": {
   "hash": "a94cb8a17de1e532d431b0be83bf665b09cfcc9ac1d9ac0f30f86e2055d015be"
  },
  "kernelspec": {
   "display_name": "Python 3.7.6 64-bit ('base': conda)",
   "language": "python",
   "name": "python3"
  },
  "language_info": {
   "codemirror_mode": {
    "name": "ipython",
    "version": 3
   },
   "file_extension": ".py",
   "mimetype": "text/x-python",
   "name": "python",
   "nbconvert_exporter": "python",
   "pygments_lexer": "ipython3",
   "version": "3.7.6"
  },
  "orig_nbformat": 4
 },
 "nbformat": 4,
 "nbformat_minor": 2
}
