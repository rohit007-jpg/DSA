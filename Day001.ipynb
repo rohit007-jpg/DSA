{
 "cells": [
  {
   "cell_type": "markdown",
   "metadata": {},
   "source": [
    "# Python program to print \"Namaste Duniya\" and checking the type and type conversion "
   ]
  },
  {
   "cell_type": "code",
   "execution_count": null,
   "metadata": {},
   "outputs": [],
   "source": [
    "print(\"Namaste Duniya\")\n",
    "\n",
    "n=\"001\";\n",
    "\n",
    "a=float(n)\n",
    "print(a);\n",
    "print(type(a));"
   ]
  },
  {
   "cell_type": "markdown",
   "metadata": {},
   "source": [
    "# Python Program to check a given number is Positive, Negative or Zero "
   ]
  },
  {
   "cell_type": "code",
   "execution_count": null,
   "metadata": {},
   "outputs": [],
   "source": [
    "#Program to check number is +ve, -ve or Zero\n",
    "\n",
    "a=int(input(\"Enter a number : \"));\n",
    "if(a>0):\n",
    "    print(\"{} is a positive number\".format(a));\n",
    "elif a==0:\n",
    "    print(\"{} is equal to Zero\".format(a));\n",
    "else:\n",
    "    print(\"{} is a negative number\".format(a));\n"
   ]
  },
  {
   "cell_type": "markdown",
   "metadata": {},
   "source": [
    "# Printing ASCII Value of each character in a string"
   ]
  },
  {
   "cell_type": "code",
   "execution_count": null,
   "metadata": {},
   "outputs": [],
   "source": [
    "print(ord.__doc__)\n",
    "\n",
    "name=input(\"Enter the name: \");\n",
    "print(\"The name you entered is \" + name)\n",
    "\n",
    "for ele in name:\n",
    "    print(\"The ASCII Value of {} is {}\".format(ele,ord(ele)))"
   ]
  },
  {
   "cell_type": "code",
   "execution_count": null,
   "metadata": {},
   "outputs": [],
   "source": [
    "#Python Program to get the ASCII value from a character\n",
    "print(ord.__doc__)\n",
    "\n",
    "c=input(\"Enter a character : \");\n",
    "print(ord(c))\n"
   ]
  },
  {
   "cell_type": "code",
   "execution_count": null,
   "metadata": {},
   "outputs": [],
   "source": [
    "ch=input(\"Enter a character : \");\n",
    "\n",
    "if ch>=\"a\" and ch<=\"z\":\n",
    "    print(\"{} is a Lower Case Character, with ASCII value of {}\".format(ch,ord(ch)));\n",
    "elif ch>=\"A\" and ch<=\"Z\":\n",
    "    print(\"{} is a Upper Case Character, with ASCII value of {}\".format(ch,ord(ch)));\n",
    "elif ch>=\"0\" and ch<=\"9\":\n",
    "    print(\"{} is a Numerical Character, with ASCII value of {}\".format(ch,ord(ch)));\n",
    "else:\n",
    "    print(\"{} is an Invalid Character, with ASCII value of {}\".format(ch,ord(ch)));"
   ]
  },
  {
   "cell_type": "code",
   "execution_count": null,
   "metadata": {},
   "outputs": [],
   "source": [
    "#Program to print all the Alphabetical Character \n",
    "\n",
    "for i in range(ord(\"a\"),ord(\"z\")+1):\n",
    "    print(chr(i),end=\" \")\n",
    "print()\n",
    "for i in range(ord(\"A\"),ord(\"Z\")+1):\n",
    "    print(chr(i),end=\" \")\n",
    "print()\n",
    "for i in range(0,9+1):\n",
    "    print(i,end=\" \")\n",
    "print()\n",
    "ch=input(\"Enter only one character : \");\n",
    "print(\"The ASCII Value of {} is {}\".format(ch,ord(ch)))\n",
    "    "
   ]
  },
  {
   "cell_type": "markdown",
   "metadata": {},
   "source": [
    "# Python Program to print Factorial of a number "
   ]
  },
  {
   "cell_type": "code",
   "execution_count": null,
   "metadata": {},
   "outputs": [],
   "source": [
    "num=int(input(\"Enter the number : \"));\n",
    "sum=0;\n",
    "for i in range(1,num+1):\n",
    "    sum+=i;\n",
    "print(\"The sum of {} number is {}\".format(num,sum));\n",
    "\n",
    "fact=1;\n",
    "for i in range(1,num+1):\n",
    "    fact=fact*i;\n",
    "print(\"The factorial of {} is {}\".format(num,fact));\n",
    "\n"
   ]
  },
  {
   "cell_type": "markdown",
   "metadata": {},
   "source": [
    "# Python Program to print the sum of even number and sum of odd number in a given range of a number"
   ]
  },
  {
   "cell_type": "code",
   "execution_count": null,
   "metadata": {},
   "outputs": [],
   "source": [
    "# Python program to print the sum of all even number in a given range\n",
    "num=int(input(\"Enter the number : \"));\n",
    "even_sum=0;\n",
    "odd_sum=0;\n",
    "for i in range(1,num+1):\n",
    "    if(i%2==0):\n",
    "        even_sum=even_sum+i;\n",
    "    else:\n",
    "        odd_sum=odd_sum+i;\n",
    "\n",
    "print(\"The sum of even number in the range {} is {}\".format(num,even_sum));\n",
    "print(\"The sum of odd number in the range {} is {}\".format(num,odd_sum));"
   ]
  },
  {
   "cell_type": "markdown",
   "metadata": {},
   "source": [
    "# Python program to convert farenheit to Celcius and vica-versa"
   ]
  },
  {
   "cell_type": "code",
   "execution_count": null,
   "metadata": {},
   "outputs": [],
   "source": [
    "# Python program to calculate the temperature\n",
    "# c=float(input(\"Enter the temperature in Celcius : \"));\n",
    "# f=(c*(9/5))+32;\n",
    "\n",
    "# print(\"{\"0.2f\"} degree celcius = {:0.2f} degree farenheit\".format(c,f));\n",
    "\n",
    "f=float(input(\"Enter the temperature in Farenheit : \"));\n",
    "c=(f-32)*5/9\n",
    "print(\"{:0.2f} degree farenheit = {:0.2f} degree celcius\".format(f,c));\n"
   ]
  },
  {
   "cell_type": "markdown",
   "metadata": {},
   "source": [
    "# Python program to prime a given number is prime or not"
   ]
  },
  {
   "cell_type": "code",
   "execution_count": null,
   "metadata": {},
   "outputs": [],
   "source": [
    "#Program to print number is prime or not \n",
    "num=int(input(\"Enter a number : \"));\n",
    "for i in range(2,num):\n",
    "    if num%i != 0:\n",
    "        print(\"{} is a Prime Number\".format(num));\n",
    "        break;\n",
    "    else:\n",
    "        print(\"{} is not a Prime Number\".format(num));\n",
    "        break;"
   ]
  },
  {
   "cell_type": "code",
   "execution_count": null,
   "metadata": {},
   "outputs": [],
   "source": [
    "num=int(input(\"Enter a number : \"));\n",
    "isdivisible=False;\n",
    "\n",
    "for i in range(2, num):\n",
    "    if num%i==0:\n",
    "        isdivisible=True;\n",
    "        print(\"{} is divisible by {}\".format(num,i));\n",
    "if isdivisible:\n",
    "    print(\"{} is a not prime number\".format(num));\n",
    "else:\n",
    "    print(\"{} is a prime number\".format(num));"
   ]
  },
  {
   "cell_type": "markdown",
   "metadata": {},
   "source": [
    "# Pattern Printing in Python "
   ]
  },
  {
   "cell_type": "code",
   "execution_count": null,
   "metadata": {},
   "outputs": [],
   "source": [
    "num=int(input(\"Enter the size : \"));\n",
    "for i in range(num):\n",
    "    for j in range(num):\n",
    "        print(\"*\",end=\" \")\n",
    "    print()"
   ]
  },
  {
   "cell_type": "code",
   "execution_count": null,
   "metadata": {},
   "outputs": [],
   "source": [
    "num=int(input(\"Enter the size : \"));\n",
    "for i in range(num):\n",
    "    print(\" * \"*num);\n"
   ]
  },
  {
   "cell_type": "code",
   "execution_count": null,
   "metadata": {},
   "outputs": [],
   "source": [
    "# Pattern Printing using While Loop \n",
    "num=int(input(\"Enter the size : \"));\n",
    "i=1;\n",
    "while(i<=num):\n",
    "    j=1;\n",
    "    while(j<=num):\n",
    "        print(\"*\",end = \" \")\n",
    "        j+=1;\n",
    "    print()\n",
    "    i+=1\n"
   ]
  },
  {
   "cell_type": "code",
   "execution_count": null,
   "metadata": {},
   "outputs": [],
   "source": [
    "num=int(input(\"Enter the size : \"));\n",
    "i=1;\n",
    "while(i<=num):\n",
    "    j=1;\n",
    "    while(j<=num):\n",
    "        print(i,end=\" \");\n",
    "        j+=1;\n",
    "    print();\n",
    "    i+=1;\n"
   ]
  },
  {
   "cell_type": "code",
   "execution_count": null,
   "metadata": {},
   "outputs": [],
   "source": [
    "num=int(input(\"Enter the size : \"));\n",
    "i=1;\n",
    "while(i<=num):\n",
    "    j=1;\n",
    "    while(j<=num):\n",
    "        print(j,end=\" \");\n",
    "        j+=1;\n",
    "    print();\n",
    "    i+=1;\n",
    "    "
   ]
  },
  {
   "cell_type": "code",
   "execution_count": null,
   "metadata": {},
   "outputs": [],
   "source": [
    "num=int(input(\"Enter the size :  \"));\n",
    "i=1;\n",
    "while(i<=num):\n",
    "    j=num;\n",
    "    while(j>=1):\n",
    "        print(j,end= \" \");\n",
    "        j-=1;\n",
    "    print();\n",
    "    i+=1;\n"
   ]
  },
  {
   "cell_type": "code",
   "execution_count": null,
   "metadata": {},
   "outputs": [],
   "source": [
    "num=int(input(\"Enter the size : \"));\n",
    "i=1;\n",
    "count=1;\n",
    "while(i<=num):\n",
    "    j=1;\n",
    "    while(j<=num):\n",
    "        print(count,end=\" \");\n",
    "        j+=1;\n",
    "        count+=1;\n",
    "    print();\n",
    "    i+=1;\n",
    "    "
   ]
  },
  {
   "cell_type": "code",
   "execution_count": null,
   "metadata": {},
   "outputs": [],
   "source": [
    "num=int(input(\"Enter the size : \"));\n",
    "i=1;\n",
    "while(i<=num):\n",
    "    j=1;\n",
    "    while(j<=i):\n",
    "        print(\"*\",end=\" \");\n",
    "        j+=1;\n",
    "    print();\n",
    "    i+=1;\n"
   ]
  },
  {
   "cell_type": "code",
   "execution_count": null,
   "metadata": {},
   "outputs": [],
   "source": [
    "size=int(input(\"Enter the number : \"));\n",
    "row=1;\n",
    "while(row<=size):\n",
    "    col=1;\n",
    "    while(col<=row):\n",
    "        print(row,end=\" \");\n",
    "        col+=1;\n",
    "    print();\n",
    "    row+=1;\n"
   ]
  },
  {
   "cell_type": "code",
   "execution_count": null,
   "metadata": {},
   "outputs": [],
   "source": [
    "size=int(input(\"Enter the size : \"));\n",
    "row=1;\n",
    "while(row<=size):\n",
    "    col=1;\n",
    "    count=row;  # Here we are using the count variable to print the pattern \n",
    "    while(col<=row):\n",
    "        print(count,end=\" \");\n",
    "        col+=1;\n",
    "        count+=1;\n",
    "    print();\n",
    "    row+=1;\n"
   ]
  },
  {
   "cell_type": "code",
   "execution_count": null,
   "metadata": {},
   "outputs": [],
   "source": [
    "# Pattern is same as in the above cell, but here we are not using any extra count variable\n",
    "\n",
    "size=int(input(\"Enter the size : \"));\n",
    "row=1;\n",
    "while(row<=size):\n",
    "    col=1;\n",
    "    while(col<=row):\n",
    "        print(row+col-1,end=\" \");\n",
    "        col+=1;\n",
    "    print();\n",
    "    row+=1;\n"
   ]
  },
  {
   "cell_type": "code",
   "execution_count": null,
   "metadata": {},
   "outputs": [],
   "source": [
    "size=int(input(\"Enter the size : \"));\n",
    "row=1;\n",
    "while(row<=size):\n",
    "    col=1;\n",
    "    count=row; #This is by using extra count variable \n",
    "    while(col<=row):\n",
    "        print(count,end=\" \");\n",
    "        count-=1;\n",
    "        col+=1;\n",
    "    print();\n",
    "    row+=1;\n"
   ]
  },
  {
   "cell_type": "code",
   "execution_count": null,
   "metadata": {},
   "outputs": [],
   "source": [
    "# Program without using extra count variable\n",
    "\n",
    "size = int(input(\"Enter the size : \"));\n",
    "row=1;\n",
    "while(row<=size):\n",
    "    col=1;\n",
    "    while(col<=row):\n",
    "        print(row-col+1,end=\" \");\n",
    "        col+=1;\n",
    "    print();\n",
    "    row+=1;"
   ]
  },
  {
   "cell_type": "code",
   "execution_count": null,
   "metadata": {},
   "outputs": [],
   "source": [
    "size= int(input(\"Enter the size : \"));\n",
    "row=1;\n",
    "i=ord(\"A\"); #converts the character to integer \n",
    "while(row<=size):\n",
    "    col=1;\n",
    "    while(col<=size):\n",
    "        ch=i+row-1; #integer is converted and stored in character\n",
    "        print(chr(ch),end= \" \");\n",
    "        col+=1;\n",
    "    print();\n",
    "    row+=1;\n",
    "    \n"
   ]
  },
  {
   "cell_type": "code",
   "execution_count": null,
   "metadata": {},
   "outputs": [],
   "source": [
    "size = int(input(\"Enter the size : \"));\n",
    "i=ord(\"A\");\n",
    "row=1;\n",
    "while(row<=size):\n",
    "    col=1;\n",
    "    while(col<=size):\n",
    "        ch=i+col-1;\n",
    "        print(chr(ch),end=\" \");\n",
    "        col+=1;\n",
    "    print();\n",
    "    row+=1;\n"
   ]
  },
  {
   "cell_type": "code",
   "execution_count": 172,
   "metadata": {},
   "outputs": [
    {
     "name": "stdout",
     "output_type": "stream",
     "text": [
      "A B C \n",
      "D E F \n",
      "G H I \n"
     ]
    }
   ],
   "source": [
    "size=int(input(\"Enter the size : \"));\n",
    "i=ord(\"A\");\n",
    "row=1;\n",
    "count=0;\n",
    "while(row<=size):\n",
    "    col=1;\n",
    "    while(col<=size):\n",
    "        ch=i+count;\n",
    "        print(chr(ch),end=\" \");\n",
    "        col+=1;\n",
    "        count+=1;\n",
    "    print();\n",
    "    row+=1;"
   ]
  },
  {
   "cell_type": "code",
   "execution_count": 186,
   "metadata": {},
   "outputs": [
    {
     "name": "stdout",
     "output_type": "stream",
     "text": [
      "1 2 3 \n",
      "2 3 4 \n",
      "3 4 5 \n"
     ]
    }
   ],
   "source": [
    "size=int(input(\"Enter the size : \"));\n",
    "i=ord(\"A\");\n",
    "row=1;\n",
    "while(row<=size):\n",
    "    col=1;\n",
    "    while(col<=size):\n",
    "        ch=i+row+col-2;\n",
    "        #print(row+col-1,end=\" \")\n",
    "        print(chr(ch),end=\" \");\n",
    "        col+=1;\n",
    "    print();\n",
    "    row+=1;\n"
   ]
  },
  {
   "cell_type": "code",
   "execution_count": 195,
   "metadata": {},
   "outputs": [
    {
     "name": "stdout",
     "output_type": "stream",
     "text": [
      "A \n",
      "B B \n",
      "C C C \n"
     ]
    }
   ],
   "source": [
    "size = int(input(\"Enter the size : \"));\n",
    "i=ord(\"A\");\n",
    "row=1;\n",
    "while(row<=size):\n",
    "    col=1;\n",
    "    while(col<=row):\n",
    "        ch=i+row-1;\n",
    "        print(chr(ch),end=\" \");\n",
    "        col+=1;\n",
    "    print()\n",
    "    row+=1;"
   ]
  },
  {
   "cell_type": "code",
   "execution_count": 17,
   "metadata": {},
   "outputs": [
    {
     "name": "stdout",
     "output_type": "stream",
     "text": [
      "A \n",
      "B C \n",
      "C D E \n"
     ]
    }
   ],
   "source": [
    "size = int(input(\"Enter the size : \"));\n",
    "i=ord(\"A\");\n",
    "row=1;\n",
    "while(row<=size):\n",
    "    col=1;\n",
    "    while(col<=row):\n",
    "        ch=i+row+col-2;\n",
    "        print(chr(ch),end=\" \");\n",
    "        col+=1;\n",
    "    print();\n",
    "    row+=1;\n"
   ]
  },
  {
   "cell_type": "code",
   "execution_count": 23,
   "metadata": {},
   "outputs": [
    {
     "name": "stdout",
     "output_type": "stream",
     "text": [
      "D \n",
      "C D \n",
      "B C D \n",
      "A B C D \n"
     ]
    }
   ],
   "source": [
    "size=int(input(\"Enter the size : \"));\n",
    "i=ord(\"A\");\n",
    "row=1;\n",
    "temp=size;\n",
    "while(row<=size):\n",
    "    col=1;\n",
    "    while(col<=row):\n",
    "        ch=i+temp+col-2;\n",
    "        print(chr(ch),end=\" \");\n",
    "        col+=1;\n",
    "    print();\n",
    "    row+=1;\n",
    "    temp-=1;\n"
   ]
  },
  {
   "cell_type": "code",
   "execution_count": 25,
   "metadata": {},
   "outputs": [
    {
     "name": "stdout",
     "output_type": "stream",
     "text": [
      "C \n",
      "B C \n",
      "A B C \n"
     ]
    }
   ],
   "source": [
    "#without using temp variable;\n",
    "\n",
    "size=int(input(\"Enter the size : \"));\n",
    "ch=ord(\"A\");\n",
    "row=1;\n",
    "while(row<=size):\n",
    "    col=1;\n",
    "    start=ch+size-row;     #Here, we are printing the start char of each row = size-row\n",
    "    while(col<=row):\n",
    "        print(chr(start),end=\" \");\n",
    "        start+=1;\n",
    "        col+=1;\n",
    "    print();\n",
    "    row+=1;"
   ]
  },
  {
   "cell_type": "code",
   "execution_count": 28,
   "metadata": {},
   "outputs": [
    {
     "name": "stdout",
     "output_type": "stream",
     "text": [
      "A B C \n",
      "B C D \n",
      "C D E \n"
     ]
    }
   ],
   "source": [
    "#by using start wala funda\n",
    "\n",
    "size=int(input(\"Enter the size : \"));\n",
    "ch=ord(\"A\");\n",
    "row=1;\n",
    "while(row<=size):\n",
    "    col=1;\n",
    "    start=ch+row-1;\n",
    "    while(col<=size):\n",
    "        print(chr(start),end=\" \");\n",
    "        col+=1;\n",
    "        start+=1;\n",
    "    print();\n",
    "    row+=1;"
   ]
  },
  {
   "cell_type": "code",
   "execution_count": 53,
   "metadata": {},
   "outputs": [
    {
     "name": "stdout",
     "output_type": "stream",
     "text": [
      "    * \n",
      "  * * \n",
      "* * * \n"
     ]
    }
   ],
   "source": [
    "size=int(input(\"Enter the size : \"));\n",
    "row=1;\n",
    "while(row<=size):  #loop ko row baar tak chalana hai\n",
    "    #space print karlo\n",
    "    space=size-row;\n",
    "    while(space):  \n",
    "        print(\" \",end= \" \");\n",
    "        space-=1;\n",
    "    col=1;\n",
    "    #star print karlo\n",
    "    while(col<=row):\n",
    "        print(\"*\",end=\" \");\n",
    "        col+=1;  \n",
    "    print();\n",
    "    row+=1; #row ko increment karlo \n"
   ]
  },
  {
   "cell_type": "code",
   "execution_count": 59,
   "metadata": {},
   "outputs": [
    {
     "name": "stdout",
     "output_type": "stream",
     "text": [
      "* * * * * \n",
      "* * * * \n",
      "* * * \n",
      "* * \n",
      "* \n"
     ]
    }
   ],
   "source": [
    "size=int(input(\"Enter the size : \"));\n",
    "row=1;\n",
    "while(row<=size):\n",
    "    star=size-row+1;\n",
    "    while(star):\n",
    "        print(\"*\",end=\" \");\n",
    "        star-=1;\n",
    "    print();\n",
    "    row+=1;"
   ]
  },
  {
   "cell_type": "code",
   "execution_count": 63,
   "metadata": {},
   "outputs": [
    {
     "name": "stdout",
     "output_type": "stream",
     "text": [
      "* * * \n",
      "  * * \n",
      "    * \n"
     ]
    }
   ],
   "source": [
    "size=int(input(\"Enter the size : \"));\n",
    "row=1;\n",
    "while(row<=size):\n",
    "    space=row-1;\n",
    "    #space print karlo\n",
    "    while(space):\n",
    "        print(\" \",end=\" \");\n",
    "        space-=1;\n",
    "    col=1;\n",
    "    star=size-row+1;\n",
    "    #star print karlo\n",
    "    while(star):\n",
    "        print(\"*\",end=\" \");\n",
    "        star-=1;\n",
    "    print();\n",
    "    row+=1;\n"
   ]
  },
  {
   "cell_type": "code",
   "execution_count": 69,
   "metadata": {},
   "outputs": [
    {
     "name": "stdout",
     "output_type": "stream",
     "text": [
      "1 1 1 1 \n",
      "  2 2 2 \n",
      "    3 3 \n",
      "      4 \n"
     ]
    }
   ],
   "source": [
    "size=int(input(\"Enter the size : \"));\n",
    "row=1;\n",
    "while(row<=size):\n",
    "    space=row-1;\n",
    "    while(space):\n",
    "        print(\" \",end=\" \");\n",
    "        space-=1;\n",
    "    star=size-row+1;\n",
    "    while(star):\n",
    "        print(row,end=\" \");\n",
    "        star-=1;\n",
    "    print();\n",
    "    row+=1;\n"
   ]
  },
  {
   "cell_type": "code",
   "execution_count": 74,
   "metadata": {},
   "outputs": [
    {
     "name": "stdout",
     "output_type": "stream",
     "text": [
      "      1 \n",
      "    2 2 \n",
      "  3 3 3 \n",
      "4 4 4 4 \n"
     ]
    }
   ],
   "source": [
    "size=int(input(\"Enter the size : \"));\n",
    "row=1;\n",
    "while(row<=size):\n",
    "    space=size-row;\n",
    "    while(space):\n",
    "        print(\" \",end=\" \");\n",
    "        space-=1;\n",
    "    col=1;\n",
    "    while(col<=row):\n",
    "        print(row,end=\" \");\n",
    "        col+=1;\n",
    "    print();\n",
    "    row+=1;"
   ]
  },
  {
   "cell_type": "code",
   "execution_count": 88,
   "metadata": {},
   "outputs": [
    {
     "name": "stdout",
     "output_type": "stream",
     "text": [
      "1 2 3 4 \n",
      "  2 3 4 \n",
      "    3 4 \n",
      "      4 \n"
     ]
    }
   ],
   "source": [
    "size=int(input(\"Enter the size : \"));\n",
    "row=1;\n",
    "while(row<=size):\n",
    "    space=row-1;\n",
    "    while(space):\n",
    "        print(\" \",end=\" \");\n",
    "        space-=1;\n",
    "    patt=size-row+1;\n",
    "    while(patt):\n",
    "        print(size-patt+1,end=\" \");\n",
    "        patt-=1;\n",
    "    print();\n",
    "    row+=1;\n",
    "\n"
   ]
  },
  {
   "cell_type": "code",
   "execution_count": 93,
   "metadata": {},
   "outputs": [
    {
     "name": "stdout",
     "output_type": "stream",
     "text": [
      "      1 \n",
      "    2 3 \n",
      "  4 5 6 \n",
      "7 8 9 10 \n"
     ]
    }
   ],
   "source": [
    "size=int(input(\"Enter the size: \"));\n",
    "row=1;\n",
    "count=1;\n",
    "while(row<=size):\n",
    "    space=size-row;\n",
    "    while(space):\n",
    "        print(\" \",end=\" \");\n",
    "        space-=1;\n",
    "    col=1;\n",
    "    while(col<=row):\n",
    "        print(count,end=\" \");\n",
    "        col+=1;\n",
    "        count+=1;\n",
    "    print();\n",
    "    row+=1;\n",
    "    "
   ]
  },
  {
   "cell_type": "code",
   "execution_count": 98,
   "metadata": {},
   "outputs": [
    {
     "name": "stdout",
     "output_type": "stream",
     "text": [
      "      1 \n",
      "    1 2 1 \n",
      "  1 2 3 2 1 \n",
      "1 2 3 4 3 2 1 \n"
     ]
    }
   ],
   "source": [
    "size=int(input(\"Enter the size : \"));\n",
    "row=1;\n",
    "while(row<=size):\n",
    "    space=size-row;\n",
    "    while(space):\n",
    "        print(\" \",end=\" \");\n",
    "        space-=1;\n",
    "    j=1;\n",
    "    while(j<=row):\n",
    "        print(j,end=\" \");\n",
    "        j+=1;\n",
    "    start=row-1;\n",
    "    while(start):\n",
    "        print(start,end=\" \");\n",
    "        start-=1;\n",
    "    print();\n",
    "    row+=1;"
   ]
  },
  {
   "cell_type": "code",
   "execution_count": 110,
   "metadata": {},
   "outputs": [
    {
     "name": "stdout",
     "output_type": "stream",
     "text": [
      "1 2 3 4 5 5 4 3 2 1 \n",
      "1 2 3 4 * * 4 3 2 1 \n",
      "1 2 3 * * * * 3 2 1 \n",
      "1 2 * * * * * * 2 1 \n",
      "1 * * * * * * * * 1 \n"
     ]
    }
   ],
   "source": [
    "size=int(input(\"Enter the size : \"));\n",
    "row=1;\n",
    "while(row<=size):\n",
    "    patt1=size-row+1;\n",
    "    i=1;\n",
    "    while(patt1):\n",
    "        print(i,end=\" \");\n",
    "        i+=1;\n",
    "        patt1-=1;\n",
    "    patt2=row-1;\n",
    "    while(patt2):\n",
    "        print(\"*\",end=\" \");\n",
    "        patt2-=1;\n",
    "    patt3=row-1;\n",
    "    while(patt3):\n",
    "        print(\"*\",end=\" \");\n",
    "        patt3-=1\n",
    "    patt4=size-row+1;\n",
    "    while(patt4):\n",
    "        print(patt4,end=\" \");\n",
    "        j+=1;\n",
    "        patt4-=1;\n",
    "    print();\n",
    "    row+=1;"
   ]
  }
 ],
 "metadata": {
  "interpreter": {
   "hash": "a94cb8a17de1e532d431b0be83bf665b09cfcc9ac1d9ac0f30f86e2055d015be"
  },
  "kernelspec": {
   "display_name": "Python 3.7.6 64-bit ('base': conda)",
   "language": "python",
   "name": "python3"
  },
  "language_info": {
   "codemirror_mode": {
    "name": "ipython",
    "version": 3
   },
   "file_extension": ".py",
   "mimetype": "text/x-python",
   "name": "python",
   "nbconvert_exporter": "python",
   "pygments_lexer": "ipython3",
   "version": "3.7.6"
  },
  "orig_nbformat": 4
 },
 "nbformat": 4,
 "nbformat_minor": 2
}
